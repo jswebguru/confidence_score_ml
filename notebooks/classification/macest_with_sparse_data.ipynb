{
 "cells": [
  {
   "cell_type": "markdown",
   "metadata": {},
   "source": [
    "# MACE with Sparse arrays"
   ]
  },
  {
   "cell_type": "code",
   "execution_count": 1,
   "metadata": {},
   "outputs": [],
   "source": [
    "%load_ext autoreload\n",
    "%autoreload 2"
   ]
  },
  {
   "cell_type": "code",
   "execution_count": 2,
   "metadata": {},
   "outputs": [],
   "source": [
    "from scipy.sparse import csr_matrix \n",
    "from scipy.sparse import random as sp_rand\n",
    "\n",
    "import numpy as np \n",
    "import matplotlib.pyplot as plt \n",
    "from matplotlib import cm\n",
    "import seaborn as sns \n",
    "\n",
    "from sklearn import datasets\n",
    "from sklearn.model_selection import train_test_split\n",
    "from sklearn.ensemble import RandomForestClassifier\n",
    "from sklearn.calibration import CalibratedClassifierCV\n",
    "\n",
    "from macest.classification import models as clmod\n",
    "from macest.classification import plots as clplot\n",
    "\n",
    "import nmslib "
   ]
  },
  {
   "cell_type": "code",
   "execution_count": 3,
   "metadata": {},
   "outputs": [],
   "source": [
    "sns.set_context(\"notebook\")\n",
    "sns.set_style('darkgrid')"
   ]
  },
  {
   "cell_type": "markdown",
   "metadata": {},
   "source": [
    "## Generate random sparse data, we will use the scipy sparse csr matrix"
   ]
  },
  {
   "cell_type": "code",
   "execution_count": 4,
   "metadata": {},
   "outputs": [],
   "source": [
    "n_rows = 10**3\n",
    "n_cols = 5 * 10**3"
   ]
  },
  {
   "cell_type": "code",
   "execution_count": 5,
   "metadata": {},
   "outputs": [],
   "source": [
    "X = csr_matrix(sp_rand(n_rows, n_cols))\n",
    "y = np.random.randint(0, 2, n_rows)"
   ]
  },
  {
   "cell_type": "code",
   "execution_count": 6,
   "metadata": {},
   "outputs": [
    {
     "data": {
      "text/plain": [
       "<1000x5000 sparse matrix of type '<class 'numpy.float64'>'\n",
       "\twith 50000 stored elements in Compressed Sparse Row format>"
      ]
     },
     "execution_count": 6,
     "metadata": {},
     "output_type": "execute_result"
    }
   ],
   "source": [
    "X"
   ]
  },
  {
   "cell_type": "code",
   "execution_count": 9,
   "metadata": {},
   "outputs": [
    {
     "data": {
      "text/plain": [
       "True"
      ]
     },
     "execution_count": 9,
     "metadata": {},
     "output_type": "execute_result"
    }
   ],
   "source": [
    "type(X)  == csr_matrix"
   ]
  },
  {
   "cell_type": "code",
   "execution_count": 10,
   "metadata": {},
   "outputs": [
    {
     "name": "stdout",
     "output_type": "stream",
     "text": [
      "float64\n"
     ]
    }
   ],
   "source": [
    "print(X.dtype)"
   ]
  },
  {
   "cell_type": "code",
   "execution_count": 11,
   "metadata": {},
   "outputs": [],
   "source": [
    "X_pp_train, X_conf_train, y_pp_train, y_conf_train  = train_test_split(X, y, test_size=0.66, random_state=10)\n",
    "X_conf_train, X_cal, y_conf_train, y_cal = train_test_split(X_conf_train, y_conf_train,\n",
    "                                                            test_size=0.5, random_state=0)\n",
    "X_cal, X_test, y_cal,  y_test, = train_test_split(X_cal, y_cal, test_size=0.5, random_state=0)"
   ]
  },
  {
   "cell_type": "code",
   "execution_count": 12,
   "metadata": {},
   "outputs": [
    {
     "data": {
      "text/plain": [
       "RandomForestClassifier(bootstrap=True, ccp_alpha=0.0, class_weight=None,\n",
       "                       criterion='gini', max_depth=None, max_features='auto',\n",
       "                       max_leaf_nodes=None, max_samples=None,\n",
       "                       min_impurity_decrease=0.0, min_impurity_split=None,\n",
       "                       min_samples_leaf=1, min_samples_split=2,\n",
       "                       min_weight_fraction_leaf=0.0, n_estimators=800,\n",
       "                       n_jobs=-1, oob_score=False, random_state=0, verbose=0,\n",
       "                       warm_start=False)"
      ]
     },
     "execution_count": 12,
     "metadata": {},
     "output_type": "execute_result"
    }
   ],
   "source": [
    "model = RandomForestClassifier(random_state =0,\n",
    "                               n_estimators =800,\n",
    "                               n_jobs =-1)\n",
    "\n",
    "model.fit(csr_matrix(X_pp_train), y_pp_train)"
   ]
  },
  {
   "cell_type": "markdown",
   "metadata": {},
   "source": [
    "### When using sparse matrices we need to tell the Search method to use sparse data, we do this with the space argument and data type argument passed to the graph. We will use the cosine space as a measure of similarity here"
   ]
  },
  {
   "cell_type": "code",
   "execution_count": 13,
   "metadata": {},
   "outputs": [],
   "source": [
    "param_bounds = clmod.SearchBounds(alpha_bounds = (0, 500), k_bounds = (5,15))\n",
    "neighbour_search_params = clmod.HnswGraphArgs(query_args = dict(ef = 1100), \n",
    "                                             init_args = dict(method=\"hnsw\",\n",
    "                                                              space=\"cosinesimil_sparse\",\n",
    "                                                              data_type=nmslib.DataType.SPARSE_VECTOR) )"
   ]
  },
  {
   "cell_type": "code",
   "execution_count": 14,
   "metadata": {},
   "outputs": [],
   "source": [
    "macest_model = clmod.ModelWithConfidence(model,\n",
    "                                      X_conf_train,\n",
    "                                      y_conf_train, \n",
    "                                      search_method_args =neighbour_search_params)\n",
    "\n",
    "macest_model.fit(X_cal, y_cal)"
   ]
  },
  {
   "cell_type": "code",
   "execution_count": 15,
   "metadata": {},
   "outputs": [],
   "source": [
    "preds = model.predict(X_test)\n",
    "rf_conf_preds = model.predict_proba(X_test)\n",
    "macest_point_prediction_conf = macest_model.predict_confidence_of_point_prediction(X_test) "
   ]
  },
  {
   "cell_type": "markdown",
   "metadata": {},
   "source": [
    "#### Also note here that the rf confidence estimates are over-confident a lot of the time, the labels are random therefore a good confidence estimate should be  ~ 50/50. We see below that MACEst correctly learns this"
   ]
  },
  {
   "cell_type": "code",
   "execution_count": 16,
   "metadata": {},
   "outputs": [
    {
     "name": "stdout",
     "output_type": "stream",
     "text": [
      "[0.685   0.59875 0.665   0.7025  0.62125 0.5875  0.59    0.68375 0.5425\n",
      " 0.62375 0.68    0.65375 0.54375 0.66    0.7     0.595   0.57625 0.625\n",
      " 0.66375 0.69625 0.50375 0.63625 0.6125  0.6125  0.72625 0.64625 0.63125\n",
      " 0.63625 0.6325  0.665   0.66875 0.7125  0.64875 0.63625 0.58875 0.61375\n",
      " 0.6125  0.6225  0.5875  0.7375  0.65125 0.605   0.61    0.62375 0.67375\n",
      " 0.60125 0.69    0.655   0.51375 0.625   0.63375 0.5025  0.66625 0.6775\n",
      " 0.57125 0.68625 0.60375 0.6075  0.60625 0.6625  0.60375 0.64125 0.62375\n",
      " 0.60375 0.6925  0.62    0.59375 0.64375 0.6875  0.5475  0.57125 0.635\n",
      " 0.68125 0.7375  0.70625 0.73375 0.70625 0.60375 0.5375  0.7075  0.59625\n",
      " 0.60375 0.675   0.72    0.615   0.7425  0.59625 0.56125 0.63125 0.5825\n",
      " 0.57625 0.6425  0.62375 0.6     0.5875  0.665   0.5775  0.76875 0.65125\n",
      " 0.655   0.68    0.6325  0.58125 0.595   0.71875 0.615   0.71125 0.695\n",
      " 0.61125 0.5225  0.65875 0.67125 0.63875 0.525   0.6575  0.70125 0.56875\n",
      " 0.6625  0.7125  0.7075  0.55625 0.61125 0.705   0.67125 0.57125 0.71125\n",
      " 0.615   0.57625 0.71    0.59    0.63125 0.585   0.60875 0.68375 0.67125\n",
      " 0.60125 0.64875 0.66    0.64    0.61625 0.7425  0.73625 0.56375 0.725\n",
      " 0.61875 0.6     0.61375 0.6625  0.63125 0.73375 0.6775  0.63    0.55\n",
      " 0.63    0.6175  0.72625 0.6475  0.64375 0.70375 0.6925  0.5925  0.63375\n",
      " 0.69375 0.68625 0.65125]\n"
     ]
    }
   ],
   "source": [
    "print(np.max(rf_conf_preds, axis=1))"
   ]
  },
  {
   "cell_type": "code",
   "execution_count": 17,
   "metadata": {},
   "outputs": [
    {
     "name": "stdout",
     "output_type": "stream",
     "text": [
      "[0.55306744 0.55547168 0.55171575 0.55184952 0.55726857 0.55160916\n",
      " 0.55632061 0.55115047 0.5546665  0.549813   0.5485467  0.55157338\n",
      " 0.5530305  0.55615865 0.550307   0.55038621 0.55539254 0.55609952\n",
      " 0.55126499 0.55241815 0.55023759 0.55275673 0.55427799 0.5518714\n",
      " 0.55475444 0.55086169 0.55359554 0.55510819 0.55159835 0.55724951\n",
      " 0.55686946 0.55377181 0.55281983 0.55756224 0.55491592 0.54902467\n",
      " 0.55203312 0.55253595 0.55464405 0.54972063 0.55055486 0.55277654\n",
      " 0.5514939  0.55435009 0.55696357 0.55204932 0.5570146  0.55163793\n",
      " 0.44554395 0.55342185 0.55440481 0.44619032 0.55135824 0.55606582\n",
      " 0.55345907 0.55417807 0.55531871 0.55378064 0.55207138 0.55152367\n",
      " 0.55158936 0.55376203 0.55625489 0.55349402 0.55765677 0.55691775\n",
      " 0.55484441 0.55278987 0.55521356 0.54901082 0.5562535  0.5541736\n",
      " 0.55262952 0.55450833 0.5525661  0.55031546 0.55292846 0.5547166\n",
      " 0.55278165 0.5560574  0.55490919 0.55320966 0.55040712 0.54753708\n",
      " 0.55190786 0.55178037 0.55424021 0.55209439 0.5524814  0.55278701\n",
      " 0.55283581 0.55132263 0.55674886 0.5493439  0.55382163 0.55317958\n",
      " 0.55574169 0.55252658 0.55731123 0.55274178 0.55705766 0.55740133\n",
      " 0.54594913 0.5514363  0.55534445 0.55263667 0.55426479 0.55459943\n",
      " 0.55113722 0.55133734 0.54835782 0.55319763 0.55464967 0.55544944\n",
      " 0.5553849  0.55265462 0.55305572 0.55126208 0.54747019 0.55386554\n",
      " 0.55141642 0.55316777 0.55760852 0.55717064 0.5505606  0.55263928\n",
      " 0.55243999 0.55340814 0.55037375 0.55165752 0.55104245 0.55142795\n",
      " 0.55291805 0.55179988 0.55368565 0.55588167 0.54861451 0.54948838\n",
      " 0.54926349 0.55562793 0.55243454 0.54985515 0.55476508 0.55581513\n",
      " 0.54891614 0.55769667 0.55593173 0.55647854 0.55511491 0.55642788\n",
      " 0.55406827 0.55421228 0.55294922 0.54996111 0.54964661 0.54773097\n",
      " 0.55669315 0.55489424 0.55309797 0.5520032  0.55227334 0.55702571\n",
      " 0.55195069 0.55685314 0.55617638]\n"
     ]
    }
   ],
   "source": [
    "print(macest_point_prediction_conf)"
   ]
  },
  {
   "cell_type": "markdown",
   "metadata": {},
   "source": [
    "## If we pass a sparse array without telling hnsw what happens ?"
   ]
  },
  {
   "cell_type": "code",
   "execution_count": 19,
   "metadata": {},
   "outputs": [],
   "source": [
    "param_bounds = clmod.SearchBounds(alpha_bounds = (0, 500), k_bounds = (5,15))"
   ]
  },
  {
   "cell_type": "code",
   "execution_count": 20,
   "metadata": {},
   "outputs": [
    {
     "ename": "ValueError",
     "evalue": "Training data type and space are not compatible, your space is l2 and training data type is <class 'scipy.sparse.csr.csr_matrix'>",
     "output_type": "error",
     "traceback": [
      "\u001b[0;31m---------------------------------------------------------------------------\u001b[0m",
      "\u001b[0;31mValueError\u001b[0m                                Traceback (most recent call last)",
      "\u001b[0;32m<ipython-input-20-8ea45b7126cb>\u001b[0m in \u001b[0;36m<module>\u001b[0;34m\u001b[0m\n\u001b[1;32m      1\u001b[0m macest_model = clmod.ModelWithConfidence(model,\n\u001b[1;32m      2\u001b[0m                                       \u001b[0mX_conf_train\u001b[0m\u001b[0;34m,\u001b[0m\u001b[0;34m\u001b[0m\u001b[0m\n\u001b[0;32m----> 3\u001b[0;31m                                       y_conf_train,)\n\u001b[0m",
      "\u001b[0;32m~/Code/mace/.env/lib/python3.6/site-packages/MACEst-1.0.0_-py3.6.egg/macest/classification/models.py\u001b[0m in \u001b[0;36m__init__\u001b[0;34m(self, point_pred_model, x_train, y_train, macest_model_params, precomputed_neighbour_info, graph, search_method_args, training_preds_by_class, verbose_training, empirical_conflict_constant)\u001b[0m\n\u001b[1;32m    122\u001b[0m         \u001b[0mself\u001b[0m\u001b[0;34m.\u001b[0m\u001b[0msearch_method_args\u001b[0m \u001b[0;34m=\u001b[0m \u001b[0msearch_method_args\u001b[0m\u001b[0;34m\u001b[0m\u001b[0m\n\u001b[1;32m    123\u001b[0m         \u001b[0mself\u001b[0m\u001b[0;34m.\u001b[0m\u001b[0m_check_consistent_search_method_args\u001b[0m\u001b[0;34m(\u001b[0m\u001b[0;34m)\u001b[0m\u001b[0;34m\u001b[0m\u001b[0m\n\u001b[0;32m--> 124\u001b[0;31m         \u001b[0mself\u001b[0m\u001b[0;34m.\u001b[0m\u001b[0m_check_data_consistent_with_search_args\u001b[0m\u001b[0;34m(\u001b[0m\u001b[0;34m)\u001b[0m\u001b[0;34m\u001b[0m\u001b[0m\n\u001b[0m\u001b[1;32m    125\u001b[0m \u001b[0;34m\u001b[0m\u001b[0m\n\u001b[1;32m    126\u001b[0m         \u001b[0mself\u001b[0m\u001b[0;34m.\u001b[0m\u001b[0mtraining_preds_by_class\u001b[0m \u001b[0;34m=\u001b[0m \u001b[0mtraining_preds_by_class\u001b[0m\u001b[0;34m\u001b[0m\u001b[0m\n",
      "\u001b[0;32m~/Code/mace/.env/lib/python3.6/site-packages/MACEst-1.0.0_-py3.6.egg/macest/classification/models.py\u001b[0m in \u001b[0;36m_check_data_consistent_with_search_args\u001b[0;34m(self)\u001b[0m\n\u001b[1;32m    440\u001b[0m         \u001b[0;32mif\u001b[0m \u001b[0msparse_metric\u001b[0m \u001b[0;34m!=\u001b[0m \u001b[0msparse_data\u001b[0m\u001b[0;34m:\u001b[0m\u001b[0;34m\u001b[0m\u001b[0m\n\u001b[1;32m    441\u001b[0m             raise ValueError(\n\u001b[0;32m--> 442\u001b[0;31m                 \u001b[0;34mf'Training data type and space are not compatible, your space is {space} '\u001b[0m\u001b[0;34m\u001b[0m\u001b[0m\n\u001b[0m\u001b[1;32m    443\u001b[0m                 f'and training data type is {training_data_type}')\n\u001b[1;32m    444\u001b[0m \u001b[0;34m\u001b[0m\u001b[0m\n",
      "\u001b[0;31mValueError\u001b[0m: Training data type and space are not compatible, your space is l2 and training data type is <class 'scipy.sparse.csr.csr_matrix'>"
     ]
    }
   ],
   "source": [
    "macest_model = clmod.ModelWithConfidence(model,\n",
    "                                      X_conf_train,\n",
    "                                      y_conf_train,)"
   ]
  },
  {
   "cell_type": "markdown",
   "metadata": {},
   "source": [
    "As we did not specify the sparse type, this resulted in an error. As expected."
   ]
  },
  {
   "cell_type": "markdown",
   "metadata": {},
   "source": [
    "## Let's mix sparse metrics and sparse data types in the search method args"
   ]
  },
  {
   "cell_type": "code",
   "execution_count": 22,
   "metadata": {},
   "outputs": [],
   "source": [
    "param_bounds = clmod.SearchBounds(alpha_bounds = (0, 500), k_bounds = (5,15))\n",
    "# note below that the default data type is not sparse so not passing an argument\n",
    "# means the graph is expecting a dense vector\n",
    "neighbour_search_params = clmod.HnswGraphArgs(query_args = dict(ef = 1100), \n",
    "                                             init_args = dict(method=\"hnsw\",\n",
    "                                                              space=\"cosinesimil\",))\n"
   ]
  },
  {
   "cell_type": "code",
   "execution_count": 23,
   "metadata": {},
   "outputs": [
    {
     "ename": "ValueError",
     "evalue": "Training data type and space are not compatible, your space is cosinesimil and training data type is <class 'scipy.sparse.csr.csr_matrix'>",
     "output_type": "error",
     "traceback": [
      "\u001b[0;31m---------------------------------------------------------------------------\u001b[0m",
      "\u001b[0;31mValueError\u001b[0m                                Traceback (most recent call last)",
      "\u001b[0;32m<ipython-input-23-b1e594b42e26>\u001b[0m in \u001b[0;36m<module>\u001b[0;34m\u001b[0m\n\u001b[1;32m      2\u001b[0m                                       \u001b[0mX_conf_train\u001b[0m\u001b[0;34m,\u001b[0m\u001b[0;34m\u001b[0m\u001b[0m\n\u001b[1;32m      3\u001b[0m                                       \u001b[0my_conf_train\u001b[0m\u001b[0;34m,\u001b[0m\u001b[0;34m\u001b[0m\u001b[0m\n\u001b[0;32m----> 4\u001b[0;31m                                       search_method_args =neighbour_search_params)\n\u001b[0m",
      "\u001b[0;32m~/Code/mace/.env/lib/python3.6/site-packages/MACEst-1.0.0_-py3.6.egg/macest/classification/models.py\u001b[0m in \u001b[0;36m__init__\u001b[0;34m(self, point_pred_model, x_train, y_train, macest_model_params, precomputed_neighbour_info, graph, search_method_args, training_preds_by_class, verbose_training, empirical_conflict_constant)\u001b[0m\n\u001b[1;32m    122\u001b[0m         \u001b[0mself\u001b[0m\u001b[0;34m.\u001b[0m\u001b[0msearch_method_args\u001b[0m \u001b[0;34m=\u001b[0m \u001b[0msearch_method_args\u001b[0m\u001b[0;34m\u001b[0m\u001b[0m\n\u001b[1;32m    123\u001b[0m         \u001b[0mself\u001b[0m\u001b[0;34m.\u001b[0m\u001b[0m_check_consistent_search_method_args\u001b[0m\u001b[0;34m(\u001b[0m\u001b[0;34m)\u001b[0m\u001b[0;34m\u001b[0m\u001b[0m\n\u001b[0;32m--> 124\u001b[0;31m         \u001b[0mself\u001b[0m\u001b[0;34m.\u001b[0m\u001b[0m_check_data_consistent_with_search_args\u001b[0m\u001b[0;34m(\u001b[0m\u001b[0;34m)\u001b[0m\u001b[0;34m\u001b[0m\u001b[0m\n\u001b[0m\u001b[1;32m    125\u001b[0m \u001b[0;34m\u001b[0m\u001b[0m\n\u001b[1;32m    126\u001b[0m         \u001b[0mself\u001b[0m\u001b[0;34m.\u001b[0m\u001b[0mtraining_preds_by_class\u001b[0m \u001b[0;34m=\u001b[0m \u001b[0mtraining_preds_by_class\u001b[0m\u001b[0;34m\u001b[0m\u001b[0m\n",
      "\u001b[0;32m~/Code/mace/.env/lib/python3.6/site-packages/MACEst-1.0.0_-py3.6.egg/macest/classification/models.py\u001b[0m in \u001b[0;36m_check_data_consistent_with_search_args\u001b[0;34m(self)\u001b[0m\n\u001b[1;32m    440\u001b[0m         \u001b[0;32mif\u001b[0m \u001b[0msparse_metric\u001b[0m \u001b[0;34m!=\u001b[0m \u001b[0msparse_data\u001b[0m\u001b[0;34m:\u001b[0m\u001b[0;34m\u001b[0m\u001b[0m\n\u001b[1;32m    441\u001b[0m             raise ValueError(\n\u001b[0;32m--> 442\u001b[0;31m                 \u001b[0;34mf'Training data type and space are not compatible, your space is {space} '\u001b[0m\u001b[0;34m\u001b[0m\u001b[0m\n\u001b[0m\u001b[1;32m    443\u001b[0m                 f'and training data type is {training_data_type}')\n\u001b[1;32m    444\u001b[0m \u001b[0;34m\u001b[0m\u001b[0m\n",
      "\u001b[0;31mValueError\u001b[0m: Training data type and space are not compatible, your space is cosinesimil and training data type is <class 'scipy.sparse.csr.csr_matrix'>"
     ]
    }
   ],
   "source": [
    "macest_model = clmod.ModelWithConfidence(model,\n",
    "                                      X_conf_train,\n",
    "                                      y_conf_train,\n",
    "                                      search_method_args =neighbour_search_params)\n"
   ]
  },
  {
   "cell_type": "markdown",
   "metadata": {},
   "source": [
    "### Vice versa"
   ]
  },
  {
   "cell_type": "code",
   "execution_count": 24,
   "metadata": {},
   "outputs": [],
   "source": [
    "param_bounds = clmod.SearchBounds(alpha_bounds = (0, 500), k_bounds = (5,15))\n",
    "neighbour_search_params = clmod.HnswGraphArgs(query_args = dict(ef = 1100), \n",
    "                                             init_args = dict(method=\"hnsw\",\n",
    "                                                              space=\"cosinesimil\",\n",
    "                                                              data_type=nmslib.DataType.SPARSE_VECTOR) )\n"
   ]
  },
  {
   "cell_type": "code",
   "execution_count": 25,
   "metadata": {},
   "outputs": [
    {
     "ename": "ValueError",
     "evalue": "Data type and space are not compatible, your space is cosinesimil and search data type is data_type nmslib.DataType.SPARSE_VECTOR",
     "output_type": "error",
     "traceback": [
      "\u001b[0;31m---------------------------------------------------------------------------\u001b[0m",
      "\u001b[0;31mValueError\u001b[0m                                Traceback (most recent call last)",
      "\u001b[0;32m<ipython-input-25-b1e594b42e26>\u001b[0m in \u001b[0;36m<module>\u001b[0;34m\u001b[0m\n\u001b[1;32m      2\u001b[0m                                       \u001b[0mX_conf_train\u001b[0m\u001b[0;34m,\u001b[0m\u001b[0;34m\u001b[0m\u001b[0m\n\u001b[1;32m      3\u001b[0m                                       \u001b[0my_conf_train\u001b[0m\u001b[0;34m,\u001b[0m\u001b[0;34m\u001b[0m\u001b[0m\n\u001b[0;32m----> 4\u001b[0;31m                                       search_method_args =neighbour_search_params)\n\u001b[0m",
      "\u001b[0;32m~/Code/mace/.env/lib/python3.6/site-packages/MACEst-1.0.0_-py3.6.egg/macest/classification/models.py\u001b[0m in \u001b[0;36m__init__\u001b[0;34m(self, point_pred_model, x_train, y_train, macest_model_params, precomputed_neighbour_info, graph, search_method_args, training_preds_by_class, verbose_training, empirical_conflict_constant)\u001b[0m\n\u001b[1;32m    121\u001b[0m         \u001b[0mself\u001b[0m\u001b[0;34m.\u001b[0m\u001b[0mgraph\u001b[0m \u001b[0;34m=\u001b[0m \u001b[0mgraph\u001b[0m\u001b[0;34m\u001b[0m\u001b[0m\n\u001b[1;32m    122\u001b[0m         \u001b[0mself\u001b[0m\u001b[0;34m.\u001b[0m\u001b[0msearch_method_args\u001b[0m \u001b[0;34m=\u001b[0m \u001b[0msearch_method_args\u001b[0m\u001b[0;34m\u001b[0m\u001b[0m\n\u001b[0;32m--> 123\u001b[0;31m         \u001b[0mself\u001b[0m\u001b[0;34m.\u001b[0m\u001b[0m_check_consistent_search_method_args\u001b[0m\u001b[0;34m(\u001b[0m\u001b[0;34m)\u001b[0m\u001b[0;34m\u001b[0m\u001b[0m\n\u001b[0m\u001b[1;32m    124\u001b[0m         \u001b[0mself\u001b[0m\u001b[0;34m.\u001b[0m\u001b[0m_check_data_consistent_with_search_args\u001b[0m\u001b[0;34m(\u001b[0m\u001b[0;34m)\u001b[0m\u001b[0;34m\u001b[0m\u001b[0m\n\u001b[1;32m    125\u001b[0m \u001b[0;34m\u001b[0m\u001b[0m\n",
      "\u001b[0;32m~/Code/mace/.env/lib/python3.6/site-packages/MACEst-1.0.0_-py3.6.egg/macest/classification/models.py\u001b[0m in \u001b[0;36m_check_consistent_search_method_args\u001b[0;34m(self)\u001b[0m\n\u001b[1;32m    419\u001b[0m         \u001b[0;32mif\u001b[0m \u001b[0msparse_metric\u001b[0m \u001b[0;34m!=\u001b[0m \u001b[0msparse_data\u001b[0m\u001b[0;34m:\u001b[0m\u001b[0;34m\u001b[0m\u001b[0m\n\u001b[1;32m    420\u001b[0m             raise ValueError(\n\u001b[0;32m--> 421\u001b[0;31m                 \u001b[0;34mf'Data type and space are not compatible, your space is {space} '\u001b[0m\u001b[0;34m\u001b[0m\u001b[0m\n\u001b[0m\u001b[1;32m    422\u001b[0m                 f'and search data type is data_type nmslib.{data_type}')\n\u001b[1;32m    423\u001b[0m \u001b[0;34m\u001b[0m\u001b[0m\n",
      "\u001b[0;31mValueError\u001b[0m: Data type and space are not compatible, your space is cosinesimil and search data type is data_type nmslib.DataType.SPARSE_VECTOR"
     ]
    }
   ],
   "source": [
    "macest_model = clmod.ModelWithConfidence(model,\n",
    "                                      X_conf_train,\n",
    "                                      y_conf_train,\n",
    "                                      search_method_args =neighbour_search_params)\n"
   ]
  }
 ],
 "metadata": {
  "kernelspec": {
   "display_name": ".env",
   "language": "python",
   "name": ".env"
  },
  "language_info": {
   "codemirror_mode": {
    "name": "ipython",
    "version": 3
   },
   "file_extension": ".py",
   "mimetype": "text/x-python",
   "name": "python",
   "nbconvert_exporter": "python",
   "pygments_lexer": "ipython3",
   "version": "3.6.5"
  }
 },
 "nbformat": 4,
 "nbformat_minor": 2
}
